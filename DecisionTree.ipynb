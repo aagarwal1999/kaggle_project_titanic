{
 "cells": [
  {
   "cell_type": "code",
   "execution_count": 63,
   "metadata": {
    "collapsed": true
   },
   "outputs": [],
   "source": [
    "import pandas as pd\n",
    "import matplotlib.pyplot as plt\n",
    "import numpy as np\n",
    "import string\n",
    "\n",
    "\n",
    "class DecisionTree:\n",
    "    empty_positive = [1]\n",
    "    empty_negative = [0]\n",
    "    empty = []\n",
    "    threshold = 0.05\n",
    "    def __init__(self, total = 1):\n",
    "        self.right = self.empty\n",
    "        self.left  = self.empty\n",
    "        DecisionTree.threshold = DecisionTree.threshold * total\n",
    "        \n",
    "    def test(self, data_pt):\n",
    "        if self is self.empty_positive:\n",
    "            return 1\n",
    "        elif self is self.empty_negative:\n",
    "            return 0\n",
    "        else:\n",
    "            if data_pt[self.col] > self.split:\n",
    "                return self.right.test(data_pt)\n",
    "            else:\n",
    "                return self.left.test(data_pt)\n",
    "    \n",
    "    def calculate_gini_impurity(self, X, y, split, col):\n",
    "        p_right = 0\n",
    "        num_right = 0\n",
    "        p_left = 0\n",
    "        num_left = 0\n",
    "        #print('Col: ', col)\n",
    "        #print('Split: ', split)\n",
    "        for index in range(len(X[:, col])):\n",
    "                      \n",
    "            if X[index, col] > split:\n",
    "                num_right += 1\n",
    "                if y[0,index] != 0:\n",
    "                    p_right += 1\n",
    "            else:\n",
    "                num_left += 1\n",
    "                \n",
    "                if y[0,index] != 0:\n",
    "                    p_left += 1\n",
    "                \n",
    "        \n",
    "        \n",
    "        p_left = p_left / num_left\n",
    "        p_right = p_right / num_right\n",
    "        #print('PLeft: ', p_left)\n",
    "        #print('PRight: ', p_right)\n",
    "        \n",
    "        total_impurity = ((p_left - p_left*p_left) * num_left + (p_right - p_right * p_right) * num_right)/ (num_left + num_right)\n",
    "        #print('Total Impurity: ', total_impurity)\n",
    "        \n",
    "        return total_impurity\n",
    "            \n",
    "        \n",
    "        \n",
    "        \n",
    "    def train(self, X_and_y):\n",
    "        X = np.matrix(X_and_y[:, :-1])\n",
    "        print(X)\n",
    "        y = np.matrix(X_and_y[:, -1]).ravel()\n",
    "        print(y)\n",
    "        n, m = np.shape(X)\n",
    "        col_number = 0\n",
    "        split_value= 0\n",
    "        min_impur = 1\n",
    "        for col in range(m):\n",
    "            mini = min(X[:, col])\n",
    "            maxi = max(X[:, col])\n",
    "            interval = (maxi - mini)/10\n",
    "            if interval == 0:\n",
    "                next\n",
    "            for _ in range(10):\n",
    "                \n",
    "                impur = self.calculate_gini_impurity(X, y, mini[0,0], col)\n",
    "                \n",
    "                if impur <= min_impur:\n",
    "                    min_impur = impur\n",
    "                    col_number = col\n",
    "                    split_value = mini[0,0]\n",
    "                mini += interval\n",
    "        self.split = split_value\n",
    "        self.col = col_number\n",
    "        \n",
    "        print((X_and_y[:, col_number] < self.split).ravel().shape)\n",
    "        \n",
    "        \n",
    "        \n",
    "        \n",
    "        right_matrix = X_and_y[(X_and_y[:, col_number] < self.split).ravel(), :]\n",
    "        left_matrix = X_and_y[(X_and_y[:, col_number] >= self.split).ravel(), :]\n",
    "        print(right_matrix)\n",
    "        print(left_matrix)\n",
    "    \n",
    "        if len(right_matrix) > self.threshold: \n",
    "            self.right = DecisionTree()\n",
    "            self.right.train(right_matrix)\n",
    "        else:\n",
    "            if np.mean(right_matrix[:, -1] < 0.5):\n",
    "                self.right = self.empty_negative\n",
    "            else:\n",
    "                self.right = self.empty_positive\n",
    "        if len(left_matrix) > self.threshold:\n",
    "            self.left = DecisionTree()\n",
    "            self.left.train(left_matrix)\n",
    "        else:\n",
    "            if np.mean(left_matrix[:, -1] < 0.5):\n",
    "                self.left = self.empty_negative\n",
    "            else:\n",
    "                self.left = self.empty_positive\n",
    "            \n",
    "        \n",
    "        \n",
    "        "
   ]
  },
  {
   "cell_type": "code",
   "execution_count": 64,
   "metadata": {},
   "outputs": [
    {
     "name": "stdout",
     "output_type": "stream",
     "text": [
      "74.95\n",
      "[[ 0.30674769  0.96396065  0.50104762 ...,  0.07605864  0.7381627\n",
      "   0.74184447]\n",
      " [ 0.26100791  0.32710544  0.55343094 ...,  0.75168454  0.77906681\n",
      "   0.16196112]\n",
      " [ 0.35303915  0.11136665  0.51225597 ...,  0.40955849  0.44781943\n",
      "   0.66396237]\n",
      " ..., \n",
      " [ 0.05718573  0.81819365  0.83287859 ...,  0.13765122  0.83471294\n",
      "   0.92652691]\n",
      " [ 0.45971583  0.06084537  0.53921161 ...,  0.01731168  0.57056861\n",
      "   0.7614208 ]\n",
      " [ 0.51397268  0.61820369  0.34222992 ...,  0.02422669  0.0162032\n",
      "   0.99863721]]\n",
      "[[ 1.  1.  1. ...,  1.  1.  1.]]\n",
      "(1, 1499)\n"
     ]
    },
    {
     "ename": "IndexError",
     "evalue": "too many indices for array",
     "output_type": "error",
     "traceback": [
      "\u001b[0;31m---------------------------------------------------------------------------\u001b[0m",
      "\u001b[0;31mIndexError\u001b[0m                                Traceback (most recent call last)",
      "\u001b[0;32m<ipython-input-64-5550f69ef968>\u001b[0m in \u001b[0;36m<module>\u001b[0;34m()\u001b[0m\n\u001b[1;32m      4\u001b[0m \u001b[0mtree\u001b[0m \u001b[0;34m=\u001b[0m \u001b[0mDecisionTree\u001b[0m\u001b[0;34m(\u001b[0m\u001b[0mlen\u001b[0m\u001b[0;34m(\u001b[0m\u001b[0mdat\u001b[0m\u001b[0;34m)\u001b[0m\u001b[0;34m)\u001b[0m\u001b[0;34m\u001b[0m\u001b[0m\n\u001b[1;32m      5\u001b[0m \u001b[0mprint\u001b[0m\u001b[0;34m(\u001b[0m\u001b[0mtree\u001b[0m\u001b[0;34m.\u001b[0m\u001b[0mthreshold\u001b[0m\u001b[0;34m)\u001b[0m\u001b[0;34m\u001b[0m\u001b[0m\n\u001b[0;32m----> 6\u001b[0;31m \u001b[0mtree\u001b[0m\u001b[0;34m.\u001b[0m\u001b[0mtrain\u001b[0m\u001b[0;34m(\u001b[0m\u001b[0mdat\u001b[0m\u001b[0;34m)\u001b[0m\u001b[0;34m\u001b[0m\u001b[0m\n\u001b[0m\u001b[1;32m      7\u001b[0m \u001b[0mprint\u001b[0m\u001b[0;34m(\u001b[0m\u001b[0mtree\u001b[0m\u001b[0;34m.\u001b[0m\u001b[0msplit\u001b[0m\u001b[0;34m)\u001b[0m\u001b[0;34m\u001b[0m\u001b[0m\n",
      "\u001b[0;32m<ipython-input-63-ee05a24d45bd>\u001b[0m in \u001b[0;36mtrain\u001b[0;34m(self, X_and_y)\u001b[0m\n\u001b[1;32m     92\u001b[0m \u001b[0;34m\u001b[0m\u001b[0m\n\u001b[1;32m     93\u001b[0m \u001b[0;34m\u001b[0m\u001b[0m\n\u001b[0;32m---> 94\u001b[0;31m         \u001b[0mright_matrix\u001b[0m \u001b[0;34m=\u001b[0m \u001b[0mX_and_y\u001b[0m\u001b[0;34m[\u001b[0m\u001b[0;34m(\u001b[0m\u001b[0mX_and_y\u001b[0m\u001b[0;34m[\u001b[0m\u001b[0;34m:\u001b[0m\u001b[0;34m,\u001b[0m \u001b[0mcol_number\u001b[0m\u001b[0;34m]\u001b[0m \u001b[0;34m<\u001b[0m \u001b[0mself\u001b[0m\u001b[0;34m.\u001b[0m\u001b[0msplit\u001b[0m\u001b[0;34m)\u001b[0m\u001b[0;34m.\u001b[0m\u001b[0mravel\u001b[0m\u001b[0;34m(\u001b[0m\u001b[0;34m)\u001b[0m\u001b[0;34m,\u001b[0m \u001b[0;34m:\u001b[0m\u001b[0;34m]\u001b[0m\u001b[0;34m\u001b[0m\u001b[0m\n\u001b[0m\u001b[1;32m     95\u001b[0m         \u001b[0mleft_matrix\u001b[0m \u001b[0;34m=\u001b[0m \u001b[0mX_and_y\u001b[0m\u001b[0;34m[\u001b[0m\u001b[0;34m(\u001b[0m\u001b[0mX_and_y\u001b[0m\u001b[0;34m[\u001b[0m\u001b[0;34m:\u001b[0m\u001b[0;34m,\u001b[0m \u001b[0mcol_number\u001b[0m\u001b[0;34m]\u001b[0m \u001b[0;34m>=\u001b[0m \u001b[0mself\u001b[0m\u001b[0;34m.\u001b[0m\u001b[0msplit\u001b[0m\u001b[0;34m)\u001b[0m\u001b[0;34m.\u001b[0m\u001b[0mravel\u001b[0m\u001b[0;34m(\u001b[0m\u001b[0;34m)\u001b[0m\u001b[0;34m,\u001b[0m \u001b[0;34m:\u001b[0m\u001b[0;34m]\u001b[0m\u001b[0;34m\u001b[0m\u001b[0m\n\u001b[1;32m     96\u001b[0m         \u001b[0mprint\u001b[0m\u001b[0;34m(\u001b[0m\u001b[0mright_matrix\u001b[0m\u001b[0;34m)\u001b[0m\u001b[0;34m\u001b[0m\u001b[0m\n",
      "\u001b[0;32m~/anaconda3/lib/python3.6/site-packages/numpy/matrixlib/defmatrix.py\u001b[0m in \u001b[0;36m__getitem__\u001b[0;34m(self, index)\u001b[0m\n\u001b[1;32m    282\u001b[0m \u001b[0;34m\u001b[0m\u001b[0m\n\u001b[1;32m    283\u001b[0m         \u001b[0;32mtry\u001b[0m\u001b[0;34m:\u001b[0m\u001b[0;34m\u001b[0m\u001b[0m\n\u001b[0;32m--> 284\u001b[0;31m             \u001b[0mout\u001b[0m \u001b[0;34m=\u001b[0m \u001b[0mN\u001b[0m\u001b[0;34m.\u001b[0m\u001b[0mndarray\u001b[0m\u001b[0;34m.\u001b[0m\u001b[0m__getitem__\u001b[0m\u001b[0;34m(\u001b[0m\u001b[0mself\u001b[0m\u001b[0;34m,\u001b[0m \u001b[0mindex\u001b[0m\u001b[0;34m)\u001b[0m\u001b[0;34m\u001b[0m\u001b[0m\n\u001b[0m\u001b[1;32m    285\u001b[0m         \u001b[0;32mfinally\u001b[0m\u001b[0;34m:\u001b[0m\u001b[0;34m\u001b[0m\u001b[0m\n\u001b[1;32m    286\u001b[0m             \u001b[0mself\u001b[0m\u001b[0;34m.\u001b[0m\u001b[0m_getitem\u001b[0m \u001b[0;34m=\u001b[0m \u001b[0;32mFalse\u001b[0m\u001b[0;34m\u001b[0m\u001b[0m\n",
      "\u001b[0;31mIndexError\u001b[0m: too many indices for array"
     ]
    }
   ],
   "source": [
    "data = pd.read_csv('Test/TreeTest.csv')\n",
    "dat = np.matrix(data.as_matrix())\n",
    "\n",
    "tree = DecisionTree(len(dat))\n",
    "print(tree.threshold)\n",
    "tree.train(dat)\n",
    "print(tree.split)\n"
   ]
  },
  {
   "cell_type": "code",
   "execution_count": null,
   "metadata": {},
   "outputs": [],
   "source": [
    "data = pd.read_csv('C:/Users/User/Documents/BerkeleyFall2017/Kaggle/Test/TreeTest.csv')\n",
    "dat = data.as_matrix()\n",
    "k = (dat[:, 1] < 0.4).ravel()\n",
    "print(dat[k, :])\n",
    "print(dat)\n"
   ]
  },
  {
   "cell_type": "code",
   "execution_count": null,
   "metadata": {
    "collapsed": true
   },
   "outputs": [],
   "source": []
  },
  {
   "cell_type": "code",
   "execution_count": null,
   "metadata": {
    "collapsed": true
   },
   "outputs": [],
   "source": []
  },
  {
   "cell_type": "code",
   "execution_count": null,
   "metadata": {
    "collapsed": true
   },
   "outputs": [],
   "source": []
  },
  {
   "cell_type": "code",
   "execution_count": null,
   "metadata": {
    "collapsed": true
   },
   "outputs": [],
   "source": []
  }
 ],
 "metadata": {
  "kernelspec": {
   "display_name": "Python 3",
   "language": "python",
   "name": "python3"
  },
  "language_info": {
   "codemirror_mode": {
    "name": "ipython",
    "version": 3
   },
   "file_extension": ".py",
   "mimetype": "text/x-python",
   "name": "python",
   "nbconvert_exporter": "python",
   "pygments_lexer": "ipython3",
   "version": "3.6.3"
  }
 },
 "nbformat": 4,
 "nbformat_minor": 2
}
