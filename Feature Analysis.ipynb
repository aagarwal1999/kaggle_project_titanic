{
 "cells": [
  {
   "cell_type": "code",
   "execution_count": 116,
   "metadata": {},
   "outputs": [],
   "source": [
    "import pandas as pd\n",
    "import matplotlib.pyplot as plt\n",
    "import numpy as np\n",
    "import string"
   ]
  },
  {
   "cell_type": "code",
   "execution_count": 117,
   "metadata": {},
   "outputs": [
    {
     "data": {
      "text/html": [
       "<div>\n",
       "<style>\n",
       "    .dataframe thead tr:only-child th {\n",
       "        text-align: right;\n",
       "    }\n",
       "\n",
       "    .dataframe thead th {\n",
       "        text-align: left;\n",
       "    }\n",
       "\n",
       "    .dataframe tbody tr th {\n",
       "        vertical-align: top;\n",
       "    }\n",
       "</style>\n",
       "<table border=\"1\" class=\"dataframe\">\n",
       "  <thead>\n",
       "    <tr style=\"text-align: right;\">\n",
       "      <th></th>\n",
       "      <th>PassengerId</th>\n",
       "      <th>Survived</th>\n",
       "      <th>Pclass</th>\n",
       "      <th>Name</th>\n",
       "      <th>Sex</th>\n",
       "      <th>Age</th>\n",
       "      <th>SibSp</th>\n",
       "      <th>Parch</th>\n",
       "      <th>Ticket</th>\n",
       "      <th>Fare</th>\n",
       "      <th>Cabin</th>\n",
       "      <th>Embarked</th>\n",
       "    </tr>\n",
       "  </thead>\n",
       "  <tbody>\n",
       "    <tr>\n",
       "      <th>0</th>\n",
       "      <td>1</td>\n",
       "      <td>0</td>\n",
       "      <td>3</td>\n",
       "      <td>Braund, Mr. Owen Harris</td>\n",
       "      <td>male</td>\n",
       "      <td>22.0</td>\n",
       "      <td>1</td>\n",
       "      <td>0</td>\n",
       "      <td>A/5 21171</td>\n",
       "      <td>7.2500</td>\n",
       "      <td>NaN</td>\n",
       "      <td>S</td>\n",
       "    </tr>\n",
       "    <tr>\n",
       "      <th>1</th>\n",
       "      <td>2</td>\n",
       "      <td>1</td>\n",
       "      <td>1</td>\n",
       "      <td>Cumings, Mrs. John Bradley (Florence Briggs Th...</td>\n",
       "      <td>female</td>\n",
       "      <td>38.0</td>\n",
       "      <td>1</td>\n",
       "      <td>0</td>\n",
       "      <td>PC 17599</td>\n",
       "      <td>71.2833</td>\n",
       "      <td>C85</td>\n",
       "      <td>C</td>\n",
       "    </tr>\n",
       "    <tr>\n",
       "      <th>2</th>\n",
       "      <td>3</td>\n",
       "      <td>1</td>\n",
       "      <td>3</td>\n",
       "      <td>Heikkinen, Miss. Laina</td>\n",
       "      <td>female</td>\n",
       "      <td>26.0</td>\n",
       "      <td>0</td>\n",
       "      <td>0</td>\n",
       "      <td>STON/O2. 3101282</td>\n",
       "      <td>7.9250</td>\n",
       "      <td>NaN</td>\n",
       "      <td>S</td>\n",
       "    </tr>\n",
       "    <tr>\n",
       "      <th>3</th>\n",
       "      <td>4</td>\n",
       "      <td>1</td>\n",
       "      <td>1</td>\n",
       "      <td>Futrelle, Mrs. Jacques Heath (Lily May Peel)</td>\n",
       "      <td>female</td>\n",
       "      <td>35.0</td>\n",
       "      <td>1</td>\n",
       "      <td>0</td>\n",
       "      <td>113803</td>\n",
       "      <td>53.1000</td>\n",
       "      <td>C123</td>\n",
       "      <td>S</td>\n",
       "    </tr>\n",
       "    <tr>\n",
       "      <th>4</th>\n",
       "      <td>5</td>\n",
       "      <td>0</td>\n",
       "      <td>3</td>\n",
       "      <td>Allen, Mr. William Henry</td>\n",
       "      <td>male</td>\n",
       "      <td>35.0</td>\n",
       "      <td>0</td>\n",
       "      <td>0</td>\n",
       "      <td>373450</td>\n",
       "      <td>8.0500</td>\n",
       "      <td>NaN</td>\n",
       "      <td>S</td>\n",
       "    </tr>\n",
       "  </tbody>\n",
       "</table>\n",
       "</div>"
      ],
      "text/plain": [
       "   PassengerId  Survived  Pclass  \\\n",
       "0            1         0       3   \n",
       "1            2         1       1   \n",
       "2            3         1       3   \n",
       "3            4         1       1   \n",
       "4            5         0       3   \n",
       "\n",
       "                                                Name     Sex   Age  SibSp  \\\n",
       "0                            Braund, Mr. Owen Harris    male  22.0      1   \n",
       "1  Cumings, Mrs. John Bradley (Florence Briggs Th...  female  38.0      1   \n",
       "2                             Heikkinen, Miss. Laina  female  26.0      0   \n",
       "3       Futrelle, Mrs. Jacques Heath (Lily May Peel)  female  35.0      1   \n",
       "4                           Allen, Mr. William Henry    male  35.0      0   \n",
       "\n",
       "   Parch            Ticket     Fare Cabin Embarked  \n",
       "0      0         A/5 21171   7.2500   NaN        S  \n",
       "1      0          PC 17599  71.2833   C85        C  \n",
       "2      0  STON/O2. 3101282   7.9250   NaN        S  \n",
       "3      0            113803  53.1000  C123        S  \n",
       "4      0            373450   8.0500   NaN        S  "
      ]
     },
     "execution_count": 117,
     "metadata": {},
     "output_type": "execute_result"
    }
   ],
   "source": [
    "data = pd.read_csv('C:/Users/User/Documents/BerkeleyFall2017/Kaggle/Titanic/train.csv')\n",
    "data.head()\n",
    "\n"
   ]
  },
  {
   "cell_type": "code",
   "execution_count": 118,
   "metadata": {
    "scrolled": true
   },
   "outputs": [
    {
     "data": {
      "text/html": [
       "<div>\n",
       "<style>\n",
       "    .dataframe thead tr:only-child th {\n",
       "        text-align: right;\n",
       "    }\n",
       "\n",
       "    .dataframe thead th {\n",
       "        text-align: left;\n",
       "    }\n",
       "\n",
       "    .dataframe tbody tr th {\n",
       "        vertical-align: top;\n",
       "    }\n",
       "</style>\n",
       "<table border=\"1\" class=\"dataframe\">\n",
       "  <thead>\n",
       "    <tr style=\"text-align: right;\">\n",
       "      <th></th>\n",
       "      <th>PassengerId</th>\n",
       "      <th>Survived</th>\n",
       "      <th>Pclass</th>\n",
       "      <th>Name</th>\n",
       "      <th>Sex</th>\n",
       "      <th>Age</th>\n",
       "      <th>SibSp</th>\n",
       "      <th>Parch</th>\n",
       "      <th>Ticket</th>\n",
       "      <th>Fare</th>\n",
       "      <th>Cabin</th>\n",
       "      <th>Embarked</th>\n",
       "      <th>Sex_Number</th>\n",
       "    </tr>\n",
       "  </thead>\n",
       "  <tbody>\n",
       "    <tr>\n",
       "      <th>0</th>\n",
       "      <td>1</td>\n",
       "      <td>0</td>\n",
       "      <td>3</td>\n",
       "      <td>Braund, Mr. Owen Harris</td>\n",
       "      <td>male</td>\n",
       "      <td>22.0</td>\n",
       "      <td>1</td>\n",
       "      <td>0</td>\n",
       "      <td>A/5 21171</td>\n",
       "      <td>7.2500</td>\n",
       "      <td>NaN</td>\n",
       "      <td>S</td>\n",
       "      <td>0</td>\n",
       "    </tr>\n",
       "    <tr>\n",
       "      <th>1</th>\n",
       "      <td>2</td>\n",
       "      <td>1</td>\n",
       "      <td>1</td>\n",
       "      <td>Cumings, Mrs. John Bradley (Florence Briggs Th...</td>\n",
       "      <td>female</td>\n",
       "      <td>38.0</td>\n",
       "      <td>1</td>\n",
       "      <td>0</td>\n",
       "      <td>PC 17599</td>\n",
       "      <td>71.2833</td>\n",
       "      <td>C85</td>\n",
       "      <td>C</td>\n",
       "      <td>1</td>\n",
       "    </tr>\n",
       "    <tr>\n",
       "      <th>2</th>\n",
       "      <td>3</td>\n",
       "      <td>1</td>\n",
       "      <td>3</td>\n",
       "      <td>Heikkinen, Miss. Laina</td>\n",
       "      <td>female</td>\n",
       "      <td>26.0</td>\n",
       "      <td>0</td>\n",
       "      <td>0</td>\n",
       "      <td>STON/O2. 3101282</td>\n",
       "      <td>7.9250</td>\n",
       "      <td>NaN</td>\n",
       "      <td>S</td>\n",
       "      <td>1</td>\n",
       "    </tr>\n",
       "    <tr>\n",
       "      <th>3</th>\n",
       "      <td>4</td>\n",
       "      <td>1</td>\n",
       "      <td>1</td>\n",
       "      <td>Futrelle, Mrs. Jacques Heath (Lily May Peel)</td>\n",
       "      <td>female</td>\n",
       "      <td>35.0</td>\n",
       "      <td>1</td>\n",
       "      <td>0</td>\n",
       "      <td>113803</td>\n",
       "      <td>53.1000</td>\n",
       "      <td>C123</td>\n",
       "      <td>S</td>\n",
       "      <td>1</td>\n",
       "    </tr>\n",
       "    <tr>\n",
       "      <th>4</th>\n",
       "      <td>5</td>\n",
       "      <td>0</td>\n",
       "      <td>3</td>\n",
       "      <td>Allen, Mr. William Henry</td>\n",
       "      <td>male</td>\n",
       "      <td>35.0</td>\n",
       "      <td>0</td>\n",
       "      <td>0</td>\n",
       "      <td>373450</td>\n",
       "      <td>8.0500</td>\n",
       "      <td>NaN</td>\n",
       "      <td>S</td>\n",
       "      <td>0</td>\n",
       "    </tr>\n",
       "  </tbody>\n",
       "</table>\n",
       "</div>"
      ],
      "text/plain": [
       "   PassengerId  Survived  Pclass  \\\n",
       "0            1         0       3   \n",
       "1            2         1       1   \n",
       "2            3         1       3   \n",
       "3            4         1       1   \n",
       "4            5         0       3   \n",
       "\n",
       "                                                Name     Sex   Age  SibSp  \\\n",
       "0                            Braund, Mr. Owen Harris    male  22.0      1   \n",
       "1  Cumings, Mrs. John Bradley (Florence Briggs Th...  female  38.0      1   \n",
       "2                             Heikkinen, Miss. Laina  female  26.0      0   \n",
       "3       Futrelle, Mrs. Jacques Heath (Lily May Peel)  female  35.0      1   \n",
       "4                           Allen, Mr. William Henry    male  35.0      0   \n",
       "\n",
       "   Parch            Ticket     Fare Cabin Embarked  Sex_Number  \n",
       "0      0         A/5 21171   7.2500   NaN        S           0  \n",
       "1      0          PC 17599  71.2833   C85        C           1  \n",
       "2      0  STON/O2. 3101282   7.9250   NaN        S           1  \n",
       "3      0            113803  53.1000  C123        S           1  \n",
       "4      0            373450   8.0500   NaN        S           0  "
      ]
     },
     "execution_count": 118,
     "metadata": {},
     "output_type": "execute_result"
    }
   ],
   "source": [
    "'''Changing Sex to Integers for Data Analysis (0 for male, 1 for female)'''\n",
    "[b for b in data['Sex'] if (b != 'male' and b != 'female')] #test came up empty so that implies every member is either male or female\n",
    "def change_sex_to_number(gender):\n",
    "    if gender == 'male':\n",
    "        return 0\n",
    "    else:\n",
    "        return 1\n",
    "data['Sex_Number'] = [change_sex_to_number(sex) for sex in data['Sex']]\n",
    "data.head()\n"
   ]
  },
  {
   "cell_type": "code",
   "execution_count": 119,
   "metadata": {},
   "outputs": [
    {
     "data": {
      "text/plain": [
       "[nan, nan]"
      ]
     },
     "execution_count": 119,
     "metadata": {},
     "output_type": "execute_result"
    }
   ],
   "source": [
    "'''Changing Embarked Location to Numbers (0 for unknown, 1 for S, 2 for C, 3 for Q)'''\n",
    "[test for test in data['Embarked'] if (test != 'S' and test != 'C' and test != 'Q')]\n"
   ]
  },
  {
   "cell_type": "code",
   "execution_count": 120,
   "metadata": {},
   "outputs": [
    {
     "data": {
      "text/html": [
       "<div>\n",
       "<style>\n",
       "    .dataframe thead tr:only-child th {\n",
       "        text-align: right;\n",
       "    }\n",
       "\n",
       "    .dataframe thead th {\n",
       "        text-align: left;\n",
       "    }\n",
       "\n",
       "    .dataframe tbody tr th {\n",
       "        vertical-align: top;\n",
       "    }\n",
       "</style>\n",
       "<table border=\"1\" class=\"dataframe\">\n",
       "  <thead>\n",
       "    <tr style=\"text-align: right;\">\n",
       "      <th></th>\n",
       "      <th>PassengerId</th>\n",
       "      <th>Survived</th>\n",
       "      <th>Pclass</th>\n",
       "      <th>Name</th>\n",
       "      <th>Sex</th>\n",
       "      <th>Age</th>\n",
       "      <th>SibSp</th>\n",
       "      <th>Parch</th>\n",
       "      <th>Ticket</th>\n",
       "      <th>Fare</th>\n",
       "      <th>Cabin</th>\n",
       "      <th>Embarked</th>\n",
       "      <th>Sex_Number</th>\n",
       "      <th>Embarked_number</th>\n",
       "    </tr>\n",
       "  </thead>\n",
       "  <tbody>\n",
       "    <tr>\n",
       "      <th>0</th>\n",
       "      <td>1</td>\n",
       "      <td>0</td>\n",
       "      <td>3</td>\n",
       "      <td>Braund, Mr. Owen Harris</td>\n",
       "      <td>male</td>\n",
       "      <td>22.0</td>\n",
       "      <td>1</td>\n",
       "      <td>0</td>\n",
       "      <td>A/5 21171</td>\n",
       "      <td>7.2500</td>\n",
       "      <td>NaN</td>\n",
       "      <td>S</td>\n",
       "      <td>0</td>\n",
       "      <td>1</td>\n",
       "    </tr>\n",
       "    <tr>\n",
       "      <th>1</th>\n",
       "      <td>2</td>\n",
       "      <td>1</td>\n",
       "      <td>1</td>\n",
       "      <td>Cumings, Mrs. John Bradley (Florence Briggs Th...</td>\n",
       "      <td>female</td>\n",
       "      <td>38.0</td>\n",
       "      <td>1</td>\n",
       "      <td>0</td>\n",
       "      <td>PC 17599</td>\n",
       "      <td>71.2833</td>\n",
       "      <td>C85</td>\n",
       "      <td>C</td>\n",
       "      <td>1</td>\n",
       "      <td>2</td>\n",
       "    </tr>\n",
       "    <tr>\n",
       "      <th>2</th>\n",
       "      <td>3</td>\n",
       "      <td>1</td>\n",
       "      <td>3</td>\n",
       "      <td>Heikkinen, Miss. Laina</td>\n",
       "      <td>female</td>\n",
       "      <td>26.0</td>\n",
       "      <td>0</td>\n",
       "      <td>0</td>\n",
       "      <td>STON/O2. 3101282</td>\n",
       "      <td>7.9250</td>\n",
       "      <td>NaN</td>\n",
       "      <td>S</td>\n",
       "      <td>1</td>\n",
       "      <td>1</td>\n",
       "    </tr>\n",
       "    <tr>\n",
       "      <th>3</th>\n",
       "      <td>4</td>\n",
       "      <td>1</td>\n",
       "      <td>1</td>\n",
       "      <td>Futrelle, Mrs. Jacques Heath (Lily May Peel)</td>\n",
       "      <td>female</td>\n",
       "      <td>35.0</td>\n",
       "      <td>1</td>\n",
       "      <td>0</td>\n",
       "      <td>113803</td>\n",
       "      <td>53.1000</td>\n",
       "      <td>C123</td>\n",
       "      <td>S</td>\n",
       "      <td>1</td>\n",
       "      <td>1</td>\n",
       "    </tr>\n",
       "    <tr>\n",
       "      <th>4</th>\n",
       "      <td>5</td>\n",
       "      <td>0</td>\n",
       "      <td>3</td>\n",
       "      <td>Allen, Mr. William Henry</td>\n",
       "      <td>male</td>\n",
       "      <td>35.0</td>\n",
       "      <td>0</td>\n",
       "      <td>0</td>\n",
       "      <td>373450</td>\n",
       "      <td>8.0500</td>\n",
       "      <td>NaN</td>\n",
       "      <td>S</td>\n",
       "      <td>0</td>\n",
       "      <td>1</td>\n",
       "    </tr>\n",
       "  </tbody>\n",
       "</table>\n",
       "</div>"
      ],
      "text/plain": [
       "   PassengerId  Survived  Pclass  \\\n",
       "0            1         0       3   \n",
       "1            2         1       1   \n",
       "2            3         1       3   \n",
       "3            4         1       1   \n",
       "4            5         0       3   \n",
       "\n",
       "                                                Name     Sex   Age  SibSp  \\\n",
       "0                            Braund, Mr. Owen Harris    male  22.0      1   \n",
       "1  Cumings, Mrs. John Bradley (Florence Briggs Th...  female  38.0      1   \n",
       "2                             Heikkinen, Miss. Laina  female  26.0      0   \n",
       "3       Futrelle, Mrs. Jacques Heath (Lily May Peel)  female  35.0      1   \n",
       "4                           Allen, Mr. William Henry    male  35.0      0   \n",
       "\n",
       "   Parch            Ticket     Fare Cabin Embarked  Sex_Number  \\\n",
       "0      0         A/5 21171   7.2500   NaN        S           0   \n",
       "1      0          PC 17599  71.2833   C85        C           1   \n",
       "2      0  STON/O2. 3101282   7.9250   NaN        S           1   \n",
       "3      0            113803  53.1000  C123        S           1   \n",
       "4      0            373450   8.0500   NaN        S           0   \n",
       "\n",
       "   Embarked_number  \n",
       "0                1  \n",
       "1                2  \n",
       "2                1  \n",
       "3                1  \n",
       "4                1  "
      ]
     },
     "execution_count": 120,
     "metadata": {},
     "output_type": "execute_result"
    }
   ],
   "source": [
    "#Above indicates there are two unknown values. For our sakes, we will set it to 0\n",
    "def change_embarked_to_number(embarked):\n",
    "    if embarked == 'S':\n",
    "        return 1\n",
    "    elif embarked == 'C':\n",
    "        return 2\n",
    "    elif embarked == 'Q':\n",
    "        return 3\n",
    "    else:\n",
    "        return 0\n",
    "data['Embarked_number'] = [change_embarked_to_number(embarked) for embarked in data['Embarked']]\n",
    "data.head()"
   ]
  },
  {
   "cell_type": "code",
   "execution_count": null,
   "metadata": {
    "scrolled": true
   },
   "outputs": [],
   "source": []
  },
  {
   "cell_type": "code",
   "execution_count": null,
   "metadata": {},
   "outputs": [],
   "source": []
  },
  {
   "cell_type": "code",
   "execution_count": 121,
   "metadata": {},
   "outputs": [
    {
     "name": "stdout",
     "output_type": "stream",
     "text": [
      "[2, 644, 168, 77]\n",
      "[2, 217, 93, 30]\n"
     ]
    }
   ],
   "source": [
    "#Right now the relevant data we have is the pclass - indicators of social status, sex, age, siblings/spouses, children/parents, and embarked\n",
    "#My guess is that it won't really matter for embarked, so let us test that. \n",
    "def get_totals_and_survived(data, string):\n",
    "    max_string = max(data[string])\n",
    "    totals = [0 for _ in range(max_string + 1)]\n",
    "    survived = totals[:]\n",
    "    for per in range(len(data)):\n",
    "        totals[data[string][per]] += 1\n",
    "        survive = data['Survived'][per]\n",
    "        if survive == 1:\n",
    "            survived[data[string][per]] += 1\n",
    "    return totals, survived\n",
    "totals, survived = get_totals_and_survived(data, 'Embarked_number')\n",
    "print(totals)\n",
    "print(survived)\n",
    "totals = totals[1:] #gets rid of unknowns since there are only two\n",
    "survived = survived[1:]"
   ]
  },
  {
   "cell_type": "code",
   "execution_count": 122,
   "metadata": {
    "scrolled": true
   },
   "outputs": [
    {
     "data": {
      "image/png": "[encoded data removed]",
      "text/plain": [
       "<matplotlib.figure.Figure at 0x2aba223a198>"
      ]
     },
     "metadata": {},
     "output_type": "display_data"
    },
    {
     "data": {
      "text/plain": [
       "[0.33695652173913043, 0.5535714285714286, 0.38961038961038963]"
      ]
     },
     "execution_count": 122,
     "metadata": {},
     "output_type": "execute_result"
    }
   ],
   "source": [
    "\n",
    "#Most of this code is copied from https://matplotlib.org/examples/api/barchart_demo.html\n",
    "N = 3\n",
    "ind = np.arange(N)\n",
    "width = 0.35\n",
    "\n",
    "fig, ax = plt.subplots()\n",
    "col1 = ax.bar(ind, totals, width, color = 'b')\n",
    "col2 = ax.bar(ind + width, survived, width, color = 'r')\n",
    "\n",
    "ax.set_ylabel('People')\n",
    "ax.set_xlabel('Destination')\n",
    "ax.set_title('Destination vs Survived')\n",
    "ax.set_xticks(ind + width / 2)\n",
    "ax.set_xticklabels(('Southampton', 'Cherbourg', 'QueensTown'))\n",
    "\n",
    "ax.legend((col1[0], col2[0]), ('Totals', 'Survived'))\n",
    "\n",
    "\n",
    "def autolabel(rects):\n",
    "    \"\"\"\n",
    "    Attach a text label above each bar displaying its height\n",
    "    \"\"\"\n",
    "    for rect in rects:\n",
    "        height = rect.get_height()\n",
    "        ax.text(rect.get_x() + rect.get_width()/2., height,\n",
    "                '%d' % int(height),\n",
    "                ha='center', va='bottom')\n",
    "\n",
    "autolabel(col1)\n",
    "autolabel(col2)\n",
    "plt.show()\n",
    "percentage = [survived[i]/totals[i] for i in range(N)]\n",
    "percentage"
   ]
  },
  {
   "cell_type": "markdown",
   "metadata": {},
   "source": [
    "It doesn't look like there is much of a relationship between the destination and the number surivived. Cherbourg did have a little bit of luck? But right now, I am not very convinced. I will keep the data, but let us analyze social class versus survived next.\n"
   ]
  },
  {
   "cell_type": "code",
   "execution_count": 123,
   "metadata": {},
   "outputs": [
    {
     "data": {
      "image/png": "[encoded data removed]",
      "text/plain": [
       "<matplotlib.figure.Figure at 0x2aba222de48>"
      ]
     },
     "metadata": {},
     "output_type": "display_data"
    },
    {
     "data": {
      "text/plain": [
       "[0.6296296296296297, 0.47282608695652173, 0.24236252545824846]"
      ]
     },
     "execution_count": 123,
     "metadata": {},
     "output_type": "execute_result"
    }
   ],
   "source": [
    "totals, survived = get_totals_and_survived(data, 'Pclass')\n",
    "\n",
    "totals, survived = totals[1:], survived[1:]\n",
    "\n",
    "N = 3\n",
    "ind = np.arange(N)\n",
    "width = 0.35\n",
    "\n",
    "fig, ax = plt.subplots()\n",
    "col1 = ax.bar(ind, totals, width, color = 'b')\n",
    "col2 = ax.bar(ind + width, survived, width, color = 'r')\n",
    "\n",
    "ax.set_ylabel('People')\n",
    "ax.set_xlabel('Cabin Class')\n",
    "ax.set_title('Class vs Survived')\n",
    "ax.set_xticks(ind + width / 2)\n",
    "ax.set_xticklabels(('Class 1', 'Class 2', 'Class 3'))\n",
    "\n",
    "ax.legend((col1[0], col2[0]), ('Totals', 'Survived'))\n",
    "\n",
    "\n",
    "def autolabel(rects):\n",
    "    \"\"\"\n",
    "    Attach a text label above each bar displaying its height\n",
    "    \"\"\"\n",
    "    for rect in rects:\n",
    "        height = rect.get_height()\n",
    "        ax.text(rect.get_x() + rect.get_width()/2., height,\n",
    "                '%d' % int(height),\n",
    "                ha='center', va='bottom')\n",
    "\n",
    "autolabel(col1)\n",
    "autolabel(col2)\n",
    "plt.show()\n",
    "percentage = [survived[i]/totals[i] for i in range(N)]\n",
    "percentage\n"
   ]
  },
  {
   "cell_type": "markdown",
   "metadata": {},
   "source": [
    "This looks more promising as an attribute, but not much more than the destination, therefore I believe that we should keep these features. Let us check out male vs female now"
   ]
  },
  {
   "cell_type": "code",
   "execution_count": 124,
   "metadata": {},
   "outputs": [
    {
     "data": {
      "image/png": "[encoded data removed]",
      "text/plain": [
       "<matplotlib.figure.Figure at 0x2aba215dba8>"
      ]
     },
     "metadata": {},
     "output_type": "display_data"
    },
    {
     "data": {
      "text/plain": [
       "[0.18890814558058924, 0.7420382165605095]"
      ]
     },
     "execution_count": 124,
     "metadata": {},
     "output_type": "execute_result"
    }
   ],
   "source": [
    "totals, survived = get_totals_and_survived(data, 'Sex_Number')\n",
    "\n",
    "\n",
    "\n",
    "N = 2\n",
    "ind = np.arange(N)\n",
    "width = 0.35\n",
    "\n",
    "fig, ax = plt.subplots()\n",
    "col1 = ax.bar(ind, totals, width, color = 'b')\n",
    "col2 = ax.bar(ind + width, survived, width, color = 'r')\n",
    "\n",
    "ax.set_ylabel('People')\n",
    "ax.set_xlabel('Sex')\n",
    "ax.set_title('Sex of Passenger vs Survived')\n",
    "ax.set_xticks(ind + width / 2)\n",
    "ax.set_xticklabels(('Male', 'Female'))\n",
    "\n",
    "ax.legend((col1[0], col2[0]), ('Totals', 'Survived'))\n",
    "\n",
    "\n",
    "def autolabel(rects):\n",
    "    \"\"\"\n",
    "    Attach a text label above each bar displaying its height\n",
    "    \"\"\"\n",
    "    for rect in rects:\n",
    "        height = rect.get_height()\n",
    "        ax.text(rect.get_x() + rect.get_width()/2., height,\n",
    "                '%d' % int(height),\n",
    "                ha='center', va='bottom')\n",
    "\n",
    "autolabel(col1)\n",
    "autolabel(col2)\n",
    "plt.show()\n",
    "percentage = [survived[i]/totals[i] for i in range(N)]\n",
    "percentage\n"
   ]
  },
  {
   "cell_type": "markdown",
   "metadata": {},
   "source": [
    "Yeah there is clearly something off here, this will be important in training for the decision trees later. Let us look more closely at the titles. From initial analysis of the names, each name seems to have a title which indicates their probabalistic role on the titanic. "
   ]
  },
  {
   "cell_type": "code",
   "execution_count": 125,
   "metadata": {},
   "outputs": [
    {
     "name": "stdout",
     "output_type": "stream",
     "text": [
      "0                                  Braund Mr Owen Harris\n",
      "1        Cumings Mrs John Bradley Florence Briggs Thayer\n",
      "2                                   Heikkinen Miss Laina\n",
      "3               Futrelle Mrs Jacques Heath Lily May Peel\n",
      "4                                 Allen Mr William Henry\n",
      "5                                         Moran Mr James\n",
      "6                                  McCarthy Mr Timothy J\n",
      "7                           Palsson Master Gosta Leonard\n",
      "8          Johnson Mrs Oscar W Elisabeth Vilhelmina Berg\n",
      "9                        Nasser Mrs Nicholas Adele Achem\n",
      "10                         Sandstrom Miss Marguerite Rut\n",
      "11                                Bonnell Miss Elizabeth\n",
      "12                          Saundercock Mr William Henry\n",
      "13                             Andersson Mr Anders Johan\n",
      "14                    Vestrom Miss Hulda Amanda Adolfina\n",
      "15                          Hewlett Mrs Mary D Kingcome \n",
      "16                                    Rice Master Eugene\n",
      "17                            Williams Mr Charles Eugene\n",
      "18     Vander Planke Mrs Julius Emelia Maria Vandemoo...\n",
      "19                                 Masselmani Mrs Fatima\n",
      "20                                    Fynney Mr Joseph J\n",
      "21                                   Beesley Mr Lawrence\n",
      "22                               McGowan Miss Anna Annie\n",
      "23                            Sloper Mr William Thompson\n",
      "24                           Palsson Miss Torborg Danira\n",
      "25     Asplund Mrs Carl Oscar Selma Augusta Emilia Jo...\n",
      "26                                 Emir Mr Farred Chehab\n",
      "27                          Fortune Mr Charles Alexander\n",
      "28                              ODwyer Miss Ellen Nellie\n",
      "29                                     Todoroff Mr Lalio\n",
      "                             ...                        \n",
      "861                            Giles Mr Frederick Edward\n",
      "862      Swift Mrs Frederick Joel Margaret Welles Barron\n",
      "863                        Sage Miss Dorothy Edith Dolly\n",
      "864                                 Gill Mr John William\n",
      "865                                 Bystrom Mrs Karolina\n",
      "866                           Duran y More Miss Asuncion\n",
      "867                   Roebling Mr Washington Augustus II\n",
      "868                            van Melkebeke Mr Philemon\n",
      "869                        Johnson Master Harold Theodor\n",
      "870                                      Balkic Mr Cerin\n",
      "871         Beckwith Mrs Richard Leonard Sallie Monypeny\n",
      "872                               Carlsson Mr Frans Olof\n",
      "873                            Vander Cruyssen Mr Victor\n",
      "874                    Abelson Mrs Samuel Hannah Wizosky\n",
      "875                         Najib Miss Adele Kiamie Jane\n",
      "876                          Gustafsson Mr Alfred Ossian\n",
      "877                                   Petroff Mr Nedelio\n",
      "878                                     Laleff Mr Kristo\n",
      "879            Potter Mrs Thomas Jr Lily Alexenia Wilson\n",
      "880             Shelley Mrs William Imanita Parrish Hall\n",
      "881                                     Markun Mr Johann\n",
      "882                           Dahlberg Miss Gerda Ulrika\n",
      "883                          Banfield Mr Frederick James\n",
      "884                                 Sutehall Mr Henry Jr\n",
      "885                     Rice Mrs William Margaret Norton\n",
      "886                                  Montvila Rev Juozas\n",
      "887                           Graham Miss Margaret Edith\n",
      "888                 Johnston Miss Catherine Helen Carrie\n",
      "889                                  Behr Mr Karl Howell\n",
      "890                                    Dooley Mr Patrick\n",
      "Name: Name_Plain, Length: 891, dtype: object\n"
     ]
    }
   ],
   "source": [
    "data['Name_Plain'] = [\"\".join(l for l in b if l not in string.punctuation) for b in data['Name']]\n",
    "print(data['Name_Plain'])"
   ]
  },
  {
   "cell_type": "code",
   "execution_count": 126,
   "metadata": {},
   "outputs": [
    {
     "data": {
      "image/png": "[encoded data removed]",
      "text/plain": [
       "<matplotlib.figure.Figure at 0x2ab9fbe20f0>"
      ]
     },
     "metadata": {},
     "output_type": "display_data"
    },
    {
     "data": {
      "text/plain": [
       "[0.18962432915921287,\n",
       " 0.7395498392282959,\n",
       " 0.1111111111111111,\n",
       " 0.4,\n",
       " 0.42857142857142855]"
      ]
     },
     "execution_count": 126,
     "metadata": {},
     "output_type": "execute_result"
    }
   ],
   "source": [
    "titles = {'Mrs', 'Mr', 'Miss', 'Master', 'Dona', 'Captain', 'Rev', 'Don', 'Dr', 'Ms', 'Major', 'Mlle','Col', 'Jonkheer', 'Mme', 'Capt', 'Countess'}\n",
    "data['Title'] = [[word for word in sting.split() if word in titles][0] for sting in data['Name_Plain']]\n",
    "data['Title']\n",
    "\n",
    "#Now we will introduce terminology for simplified titles - crew (Major, Captain, Col), important (Don, Dona, Jonkheer, Rev, Countess), amb (Dr),  male (Mr, Master), female (Miss, Mrs, Ms)\n",
    "\n",
    "simp_title = {'Mrs': 1, 'Mr': 0, 'Miss': 1, 'Ms': 1, 'Master': 0, 'Dona': 2, 'Captain': 3, 'Rev': 2, 'Don': 2, 'Dr': 4, 'Major': 3, 'Mlle': 1, 'Col': 3, 'Jonkheer': 2, 'Mme': 0, 'Capt': 3, 'Countess': 2}\n",
    "\n",
    "data['Title_Numeric'] = [simp_title[sting] for sting in data['Title']]\n",
    "data['Title_Numeric']\n",
    "\n",
    "totals, survived = get_totals_and_survived(data, 'Title_Numeric')\n",
    "\n",
    "N = 5\n",
    "ind = np.arange(N)\n",
    "width = 0.35\n",
    "\n",
    "fig, ax = plt.subplots()\n",
    "col1 = ax.bar(ind, totals, width, color = 'b')\n",
    "col2 = ax.bar(ind + width, survived, width, color = 'r')\n",
    "\n",
    "ax.set_ylabel('People')\n",
    "ax.set_xlabel('Title')\n",
    "ax.set_title('Title of Passenger vs Survived')\n",
    "ax.set_xticks(ind + width / 2)\n",
    "ax.set_xticklabels(('Male', 'Female', 'Important', 'Crew', 'Other'))\n",
    "\n",
    "ax.legend((col1[0], col2[0]), ('Totals', 'Survived'))\n",
    "\n",
    "\n",
    "def autolabel(rects):\n",
    "    \"\"\"\n",
    "    Attach a text label above each bar displaying its height\n",
    "    \"\"\"\n",
    "    for rect in rects:\n",
    "        height = rect.get_height()\n",
    "        ax.text(rect.get_x() + rect.get_width()/2., height,\n",
    "                '%d' % int(height),\n",
    "                ha='center', va='bottom')\n",
    "\n",
    "autolabel(col1)\n",
    "autolabel(col2)\n",
    "plt.show()\n",
    "percentage = [survived[i]/totals[i] for i in range(N)]\n",
    "percentage"
   ]
  },
  {
   "cell_type": "markdown",
   "metadata": {},
   "source": [
    "It is hard to say what exactly this means..but the title does not seem too signficant. If anything, an important title means a lower chance of survival. Let's just look at age distributions next. "
   ]
  },
  {
   "cell_type": "code",
   "execution_count": 127,
   "metadata": {
    "scrolled": true
   },
   "outputs": [
    {
     "data": {
      "image/png": "[encoded data removed]",
      "text/plain": [
       "<matplotlib.figure.Figure at 0x2aba2385630>"
      ]
     },
     "metadata": {},
     "output_type": "display_data"
    }
   ],
   "source": [
    "survived_age = [data['Age'][index] for index in range(len(data['Age'])) if data['Survived'][index] == 1 and data['Age'][index] >= 0]\n",
    "num_bins = 20\n",
    "n, bins, patches = plt.hist(survived_age, num_bins, facecolor='blue', alpha=0.5)\n",
    "plt.show()\n"
   ]
  },
  {
   "cell_type": "code",
   "execution_count": 128,
   "metadata": {},
   "outputs": [
    {
     "data": {
      "image/png": "[encoded data removed]",
      "text/plain": [
       "<matplotlib.figure.Figure at 0x2aba1ddda20>"
      ]
     },
     "metadata": {},
     "output_type": "display_data"
    }
   ],
   "source": [
    "\n",
    "died_age = [data['Age'][index] for index in range(len(data['Age'])) if data['Survived'][index] == 0 and data['Age'][index] >= 0]\n",
    "num_bins = 20\n",
    "n, bins, patches = plt.hist(died_age, num_bins, facecolor='blue', alpha=0.5)\n",
    "plt.show()"
   ]
  },
  {
   "cell_type": "code",
   "execution_count": 129,
   "metadata": {},
   "outputs": [
    {
     "data": {
      "text/plain": [
       "0      0\n",
       "1      0\n",
       "2      0\n",
       "3      0\n",
       "4      0\n",
       "5      0\n",
       "6      0\n",
       "7      1\n",
       "8      0\n",
       "9      0\n",
       "10     1\n",
       "11     0\n",
       "12     0\n",
       "13     0\n",
       "14     0\n",
       "15     0\n",
       "16     1\n",
       "17     0\n",
       "18     0\n",
       "19     0\n",
       "20     0\n",
       "21     0\n",
       "22     0\n",
       "23     0\n",
       "24     0\n",
       "25     0\n",
       "26     0\n",
       "27     0\n",
       "28     0\n",
       "29     0\n",
       "      ..\n",
       "861    0\n",
       "862    0\n",
       "863    0\n",
       "864    0\n",
       "865    0\n",
       "866    0\n",
       "867    0\n",
       "868    0\n",
       "869    1\n",
       "870    0\n",
       "871    0\n",
       "872    0\n",
       "873    0\n",
       "874    0\n",
       "875    0\n",
       "876    0\n",
       "877    0\n",
       "878    0\n",
       "879    0\n",
       "880    0\n",
       "881    0\n",
       "882    0\n",
       "883    0\n",
       "884    0\n",
       "885    0\n",
       "886    0\n",
       "887    0\n",
       "888    0\n",
       "889    0\n",
       "890    0\n",
       "Name: Very_Young, Length: 891, dtype: int64"
      ]
     },
     "execution_count": 129,
     "metadata": {},
     "output_type": "execute_result"
    }
   ],
   "source": [
    "#The only indicator I see is that old people died, and very very young children survived. So I will create a feature called, very very young\n",
    "\n",
    "data['Very_Young'] = [int(b <= 5) for b in data['Age']]\n",
    "data['Very_Young']"
   ]
  },
  {
   "cell_type": "code",
   "execution_count": null,
   "metadata": {},
   "outputs": [],
   "source": [
    "#Alright Now that I have done this, I will just define a function that will manipulate a data-set in a necessary way to get to how our data is now\n",
    "\n",
    "def add_feat(data):\n",
    "    simp_title = {'Mrs': 1, 'Mr': 0, 'Miss': 1, 'Ms': 1, 'Master': 0, 'Dona': 2, 'Captain': 3, 'Rev': 2, 'Don': 2, 'Dr': 4, 'Major': 3, 'Mlle': 1, 'Col': 3, 'Jonkheer': 2, 'Mme': 0, 'Capt': 3, 'Countess': 2}\n",
    "\n",
    "    data['Sex_Number'] = [change_sex_to_number(sex) for sex in data['Sex']]\n",
    "    data['Embarked_number'] = [change_embarked_to_number(embarked) for embarked in data['Embarked']]\n",
    "    data['Name_Plain'] = [\"\".join(l for l in b if l not in string.punctuation) for b in data['Name']]\n",
    "    data['Title'] = [[word for word in sting.split() if word in titles][0] for sting in data['Name_Plain']]\n",
    "    data['Title_Numeric'] = [simp_title[sting] for sting in data['Title']]\n",
    "    data['Very_Young'] = [int(b <= 5) for b in data['Age']]\n",
    "\n",
    "    \n",
    "    "
   ]
  },
  {
   "cell_type": "code",
   "execution_count": null,
   "metadata": {},
   "outputs": [],
   "source": []
  },
  {
   "cell_type": "code",
   "execution_count": null,
   "metadata": {},
   "outputs": [],
   "source": []
  }
 ],
 "metadata": {
  "kernelspec": {
   "display_name": "Python 3",
   "language": "python",
   "name": "python3"
  },
  "language_info": {
   "codemirror_mode": {
    "name": "ipython",
    "version": 3
   },
   "file_extension": ".py",
   "mimetype": "text/x-python",
   "name": "python",
   "nbconvert_exporter": "python",
   "pygments_lexer": "ipython3",
   "version": "3.5.3"
  }
 },
 "nbformat": 4,
 "nbformat_minor": 2
}
