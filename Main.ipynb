{
 "cells": [
  {
   "cell_type": "code",
   "execution_count": null,
   "metadata": {},
   "outputs": [],
   "source": [
    "import numpy as np\n",
    "import pandas as pd\n",
    "import matplotlib.pyplot as plt\n",
    "\n"
   ]
  },
  {
   "cell_type": "markdown",
   "metadata": {},
   "source": [
    "So, I am pretty new to Machine Learning (my only background is the Stanford Course), so this is my plan for this project. \n",
    "\n",
    "1. I am going to first analyze the data shown in order to get a better feel of the data itself and what its structure is. I will do this using pandas and matplot lib. Relevant figures will be shown in Feature Analysis Document\n",
    "\n",
    "2. From analyzing the features, I will create new features based on what I think is most important about the data - Also in Feature Analysis\n",
    "\n",
    "3. I will create my own boosted decision forest (from scratch) to analyze the problem and find a good solution\n",
    "\n",
    "4. I will use a simple logistic regression model and determine its accuracy, and implement gradient descent. \n",
    "\n",
    "5. I will use a neural network that I implement from scratch to solve the problem\n",
    "\n",
    "6. I will use a built in SVM to test and check my solution\n",
    "\n",
    "7. Each of the steps in which I am creating my own model will be analyzed using cross-validation, F-scores, etc. In order to analyze solution\n",
    "\n",
    "8. I will end with the presentation of my best model. Hopefully something like this works! \n"
   ]
  },
  {
   "cell_type": "code",
   "execution_count": null,
   "metadata": {},
   "outputs": [],
   "source": []
  }
 ],
 "metadata": {
  "kernelspec": {
   "display_name": "Python 3",
   "language": "python",
   "name": "python3"
  },
  "language_info": {
   "codemirror_mode": {
    "name": "ipython",
    "version": 3
   },
   "file_extension": ".py",
   "mimetype": "text/x-python",
   "name": "python",
   "nbconvert_exporter": "python",
   "pygments_lexer": "ipython3",
   "version": "3.5.3"
  }
 },
 "nbformat": 4,
 "nbformat_minor": 2
}
